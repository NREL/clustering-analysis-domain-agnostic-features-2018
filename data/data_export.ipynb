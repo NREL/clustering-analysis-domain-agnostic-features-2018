{
 "cells": [
  {
   "cell_type": "markdown",
   "metadata": {},
   "source": [
    "# Data Export Notebook\n",
    "\n",
    "Author: Jordan Perr-Sauer\n",
    "\n",
    "This notebook contains scripts which have been used on intermediate data to make them ready for public release. NREL is not able to release all of the intermediate data files to the public due to licensing agreements."
   ]
  },
  {
   "cell_type": "code",
   "execution_count": 5,
   "metadata": {},
   "outputs": [],
   "source": [
    "import pandas as pd\n",
    "import numpy as np"
   ]
  },
  {
   "cell_type": "markdown",
   "metadata": {},
   "source": [
    "### Shuffle vehicle ids"
   ]
  },
  {
   "cell_type": "code",
   "execution_count": 47,
   "metadata": {},
   "outputs": [],
   "source": [
    "#vehicles_in_study = pd.read_csv(\"./FleetDNAETL_CoDA_epaprime_traditional_nolimit.csv\")[\"vdir\"].str[2:]\n",
    "#np.random.shuffle(vehicles_in_study.values)\n",
    "#shuffle_df = pd.DataFrame(vehicles_in_study)\n",
    "#shuffle_df.to_csv(\"shuffle_vehicle_id_mapping.csv\")\n",
    "\n",
    "shuffle_df = pd.read_csv(\"shuffle_vehicle_id_mapping.csv\", index_col=0)"
   ]
  },
  {
   "cell_type": "markdown",
   "metadata": {},
   "source": [
    "### data/FleetDNAETL_CoDA_epaprime_agnostic_50klimit.csv\n",
    "\n",
    "Shuffle vehicle IDs. Preserve only speed-based features, as the other features were not used in the analysis."
   ]
  },
  {
   "cell_type": "code",
   "execution_count": 53,
   "metadata": {},
   "outputs": [],
   "source": [
    "df = pd.read_csv(\"./FleetDNAETL_CoDA_epaprime_agnostic_50klimit.csv\")\n",
    "\n",
    "cols = [x for x in df.columns if (x[0]=='s' or x == 'vdir')]\n",
    "df = df[cols]\n",
    "\n",
    "df[\"vdir\"] = df[\"vdir\"].map(lambda x: np.argmax(shuffle_df[\"vdir\"] == int(x[2:])))\n",
    "\n",
    "df.sort_values(\"vdir\")\n",
    "\n",
    "df.to_csv(\"./FleetDNAETL_CoDA_epaprime_agnostic_50klimit.public.csv\", index=False)"
   ]
  },
  {
   "cell_type": "markdown",
   "metadata": {},
   "source": [
    "### data/FleetDNAETL_CoDA_epaprime_traditional_nolimit.csv\n",
    "\n",
    "Shuffle vehicle IDs"
   ]
  },
  {
   "cell_type": "code",
   "execution_count": 61,
   "metadata": {},
   "outputs": [],
   "source": [
    "df = pd.read_csv(\"./FleetDNAETL_CoDA_epaprime_traditional_nolimit.csv\")\n",
    "\n",
    "df[\"vdir\"] = df[\"vdir\"].map(lambda x: np.argmax(shuffle_df[\"vdir\"] == int(x[2:])))\n",
    "df = df.sort_values(\"vdir\")\n",
    "\n",
    "df.to_csv(\"./FleetDNAETL_CoDA_epaprime_traditional_nolimit.public.csv\", index=False)"
   ]
  },
  {
   "cell_type": "markdown",
   "metadata": {},
   "source": [
    "### data/vehicle_specifications_fdna.csv\n",
    "\n",
    "Delete all columns except for vocation and vehicle id.\n",
    "Remove vehicles that are not included in the study."
   ]
  },
  {
   "cell_type": "code",
   "execution_count": 55,
   "metadata": {
    "scrolled": true
   },
   "outputs": [],
   "source": [
    "df = pd.read_csv(\"./vehicle_specifications_fdna.csv\")\n",
    "\n",
    "cols = [x for x in df.columns if x in ['id', 'vocation']]\n",
    "df = df[cols]\n",
    "\n",
    "vehicles_in_study = pd.read_csv(\"./FleetDNAETL_CoDA_epaprime_traditional_nolimit.csv\")[\"vdir\"].str[2:]\n",
    "vehicles_in_study = pd.DataFrame(vehicles_in_study.astype(int))\n",
    "df = df.merge(vehicles_in_study, how=\"inner\", left_on=\"id\", right_on=\"vdir\")\n",
    "\n",
    "df = df[[\"id\", \"vocation\"]]\n",
    "\n",
    "df[\"id\"] = df[\"id\"].map(lambda x: np.argmax(shuffle_df[\"vdir\"] == int(x)))\n",
    "df = df.sort_values(\"id\")\n",
    "\n",
    "df[\"vocation\"] = df[\"vocation\"].str.upper()\n",
    "\n",
    "df.to_csv(\"./vehicle_specifications_fdna.public.csv\", index=False)"
   ]
  },
  {
   "cell_type": "markdown",
   "metadata": {},
   "source": [
    "### List vehicles missing from agnostic feature set"
   ]
  },
  {
   "cell_type": "code",
   "execution_count": 57,
   "metadata": {},
   "outputs": [],
   "source": [
    "ag_v = pd.read_csv(\"./FleetDNAETL_CoDA_epaprime_agnostic_50klimit.public.csv\")[\"vdir\"]\n",
    "tr_v = pd.read_csv(\"./FleetDNAETL_CoDA_epaprime_traditional_nolimit.public.csv\")[\"vdir\"]"
   ]
  },
  {
   "cell_type": "code",
   "execution_count": 58,
   "metadata": {},
   "outputs": [
    {
     "data": {
      "text/plain": [
       "899"
      ]
     },
     "metadata": {},
     "output_type": "display_data"
    },
    {
     "data": {
      "text/plain": [
       "912"
      ]
     },
     "metadata": {},
     "output_type": "display_data"
    }
   ],
   "source": [
    "display(len(list(ag_v)))\n",
    "display(len(list(tr_v)))"
   ]
  },
  {
   "cell_type": "code",
   "execution_count": 59,
   "metadata": {},
   "outputs": [
    {
     "data": {
      "text/plain": [
       "set()"
      ]
     },
     "execution_count": 59,
     "metadata": {},
     "output_type": "execute_result"
    }
   ],
   "source": [
    "set(ag_v) - set(tr_v)"
   ]
  },
  {
   "cell_type": "code",
   "execution_count": 60,
   "metadata": {},
   "outputs": [
    {
     "data": {
      "text/plain": [
       "{24, 63, 73, 249, 335, 341, 388, 436, 521, 584, 737, 760, 887}"
      ]
     },
     "execution_count": 60,
     "metadata": {},
     "output_type": "execute_result"
    }
   ],
   "source": [
    "set(tr_v) - set(ag_v)"
   ]
  }
 ],
 "metadata": {
  "kernelspec": {
   "display_name": "Python 2",
   "language": "python",
   "name": "python2"
  },
  "language_info": {
   "codemirror_mode": {
    "name": "ipython",
    "version": 2
   },
   "file_extension": ".py",
   "mimetype": "text/x-python",
   "name": "python",
   "nbconvert_exporter": "python",
   "pygments_lexer": "ipython2",
   "version": "2.7.15"
  },
  "metadata": {
   "interpreter": {
    "hash": "aee8b7b246df8f9039afb4144a1f6fd8d2ca17a180786b69acc140d282b71a49"
   }
  }
 },
 "nbformat": 4,
 "nbformat_minor": 2
}
